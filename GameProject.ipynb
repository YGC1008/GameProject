{
 "cells": [
  {
   "cell_type": "code",
   "execution_count": null,
   "metadata": {},
   "outputs": [],
   "source": [
    "from graphics import *\n",
    "def draw_archery_target(win):\n",
    "    win.setCoords(-5, -5, 5, 5)\n",
    "    \n",
    "    for idx, color  in enumerate(['white', 'black', 'blue', 'red', 'yellow']):\n",
    "        circle = Circle(Point(0, 0), 5-idx)\n",
    "        circle.setOutline(\"black\")\n",
    "        circle.setFill(color)\n",
    "        circle.setWidth(1)\n",
    "        circle.draw(win)"
   ]
  },
  {
   "cell_type": "code",
   "execution_count": null,
   "metadata": {},
   "outputs": [],
   "source": [
    " def shot_at(win):\n",
    "    p = win.getMouse()\n",
    "    dot = Circle(p, 0.2)\n",
    "    dot.setFill('orange')\n",
    "    dot.draw(win)\n",
    "    dist = (p.x * p.x + p.y * p.y) ** 0.5\n",
    "    for i in range(1, 6):\n",
    "        if dist <= i:\n",
    "            score = 9 - ((i - 1) * 2)  \n",
    "            print(f\"Hit! {score} Point\")  \n",
    "            return score  \n",
    "    print(\"You missed!\")\n",
    "    return 0"
   ]
  },
  {
   "cell_type": "code",
   "execution_count": null,
   "metadata": {},
   "outputs": [],
   "source": [
    "def main():\n",
    "    scores = []\n",
    "    target = GraphWin()\n",
    "    draw_archery_target(target)\n",
    "    \n",
    "    for _ in range(5):\n",
    "        scores.append(shot_at(target))\n",
    "    \n",
    "    print(f\"The results for the shots taken were: {sum(scores)}\")\n",
    "    target.getMouse()\n",
    "    target.close()\n",
    "\n",
    "main()"
   ]
  }
 ],
 "metadata": {
  "kernelspec": {
   "display_name": "Python 3",
   "language": "python",
   "name": "python3"
  },
  "language_info": {
   "codemirror_mode": {
    "name": "ipython",
    "version": 3
   },
   "file_extension": ".py",
   "mimetype": "text/x-python",
   "name": "python",
   "nbconvert_exporter": "python",
   "pygments_lexer": "ipython3",
   "version": "3.8.3"
  }
 },
 "nbformat": 4,
 "nbformat_minor": 4
}
