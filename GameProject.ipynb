{
 "cells": [
  {
   "cell_type": "code",
   "execution_count": 15,
   "metadata": {},
   "outputs": [],
   "source": [
    "from graphics import *\n",
    "from math import sqrt\n",
    "def main():\n",
    "    win=GraphWin(\"Target\",400,440)\n",
    "    win.setCoords(0,0,100,110)\n",
    "    circ=Circle(Point(50,60),5)\n",
    "    circ.setFill(\"yellow\")\n",
    "    circ2=Circle(Point(50,60),10)\n",
    "    circ2.setFill(\"red\")\n",
    "    circ3=Circle(Point(50,60),15)\n",
    "    circ3.setFill(\"blue\")\n",
    "    circ4=Circle(Point(50,60),20)\n",
    "    circ4.setFill(\"black\")\n",
    "    circ5=Circle(Point(50,60),25)\n",
    "    circ5.setFill(\"white\")\n",
    "    circ5.draw(win)\n",
    "    circ4.draw(win)\n",
    "    circ3.draw(win)\n",
    "    circ2.draw(win)\n",
    "    circ.draw(win)\n",
    "    \n",
    "    msg=Text(Point(50,5),\"Fire 5 arrows\")\n",
    "    msg.setSize(10)\n",
    "    msg.draw(win)\n",
    "    score=0\n",
    "    \n",
    "    for i in range(4,-1,-1):\n",
    "        shot=win.getMouse()\n",
    "        arrow=Circle(shot,1)\n",
    "        arrow.setFill(\"orange\")\n",
    "        arrow.setOutline(\"orange\")\n",
    "        arrow.draw(win)\n",
    "        distance=sqrt((50-shot.getX())**2+(60-shot.getY())**2)\n",
    "        if distance<=25:\n",
    "            score+=round(9-2*(distance//5))\n",
    "        if i>1:\n",
    "            msg.setText(\"Fire \"+str(i)+'more arrows\\n '+ \"Score: \"+str(score))\n",
    "        elif i==1:\n",
    "            msg.setText(\"Fire your last arrow\\n\"+ \"Score:\"+ str(score))\n",
    "        else: \n",
    "            msg.setText(\"Score:\"+ str(score))\n",
    "    \n",
    "    win.getMouse()\n",
    "    win.close()\n",
    "main()"
   ]
  }
 ],
 "metadata": {
  "kernelspec": {
   "display_name": "Python 3",
   "language": "python",
   "name": "python3"
  },
  "language_info": {
   "codemirror_mode": {
    "name": "ipython",
    "version": 3
   },
   "file_extension": ".py",
   "mimetype": "text/x-python",
   "name": "python",
   "nbconvert_exporter": "python",
   "pygments_lexer": "ipython3",
   "version": "3.8.3"
  }
 },
 "nbformat": 4,
 "nbformat_minor": 4
}
